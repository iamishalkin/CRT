{
 "cells": [
  {
   "cell_type": "code",
   "execution_count": 7,
   "metadata": {},
   "outputs": [],
   "source": [
    "import torch\n",
    "import torch.autograd\n",
    "from torch import nn\n",
    "\n",
    "\n",
    "import sys, os\n",
    "\n",
    "sys.path.append('../')\n",
    "\n",
    "# matplotlib.use('Agg')\n",
    "import matplotlib.pyplot as plt\n",
    "import numpy as np\n",
    "#import cv2\n",
    "from t_sne.tsne import TSNE as torchTSNE\n",
    "from scipy.spatial.distance import squareform\n",
    "from sklearn import manifold\n",
    "from sklearn.decomposition import PCA\n",
    "from sklearn.metrics.pairwise import pairwise_distances\n",
    "\n",
    "#from data_visualization.t_sne.wrapper import Wrapper\n",
    "#from torch.common.datasets_parsers.av_parser import AVDBParser"
   ]
  },
  {
   "cell_type": "code",
   "execution_count": null,
   "metadata": {},
   "outputs": [],
   "source": [
    "class TSNE(nn.Module):\n",
    "    def __init__(self, n_points, n_dim):\n",
    "        self.n_points = n_points\n",
    "        self.n_dim = n_dim\n",
    "        super(TSNE, self).__init__()\n",
    "        # Logit of datapoint-to-topic weight\n",
    "        self.logits = nn.Embedding(n_points, n_dim)\n",
    "\n",
    "    def forward(self, pij, i, j):\n",
    "        # TODO: реализуйте вычисление матрицы сходства для точек отображения и расстояние Кульбака-Лейблера\n",
    "        # pij - значения сходства между точками данных\n",
    "        # i, j - индексы точек\n",
    "        q_i_j = nn.modules.distance.PairwiseDistance()\n",
    "        loss_kld = None\n",
    "        return loss_kld.sum()\n",
    "\n",
    "    def __call__(self, *args):\n",
    "        return self.forward(*args)"
   ]
  },
  {
   "cell_type": "code",
   "execution_count": 14,
   "metadata": {},
   "outputs": [],
   "source": [
    "def run_tsne(feat, pca_dim=50, tsne_dim=2):\n",
    "    if pca_dim > 0:\n",
    "        feat = PCA(n_components=pca_dim).fit_transform(feat)\n",
    "\n",
    "    distances2 = pairwise_distances(feat, metric='euclidean', squared=True)\n",
    "    # This return a n x (n-1) prob array\n",
    "    pij = manifold.t_sne._joint_probabilities(distances2, 30, False)\n",
    "    # Convert to n x n prob array\n",
    "    pij = squareform(pij)\n",
    "\n",
    "    i, j = np.indices(pij.shape)\n",
    "    i, j = i.ravel(), j.ravel()\n",
    "    pij = pij.ravel().astype('float32')\n",
    "    # Remove self-indices\n",
    "    idx = i != j\n",
    "    i, j, pij = i[idx], j[idx], pij[idx]\n",
    "    print (i.shape)\n",
    "    print (j.shape)\n",
    "    print (pij.shape)"
   ]
  },
  {
   "cell_type": "code",
   "execution_count": 15,
   "metadata": {},
   "outputs": [],
   "source": [
    "feat = np.random.sample(size=(500, 150))"
   ]
  },
  {
   "cell_type": "code",
   "execution_count": 16,
   "metadata": {},
   "outputs": [
    {
     "name": "stdout",
     "output_type": "stream",
     "text": [
      "(249500,)\n",
      "(249500,)\n",
      "(249500,)\n"
     ]
    }
   ],
   "source": [
    "run_tsne(feat)"
   ]
  },
  {
   "cell_type": "code",
   "execution_count": null,
   "metadata": {},
   "outputs": [],
   "source": []
  }
 ],
 "metadata": {
  "kernelspec": {
   "display_name": "Python 3",
   "language": "python",
   "name": "python3"
  },
  "language_info": {
   "codemirror_mode": {
    "name": "ipython",
    "version": 3
   },
   "file_extension": ".py",
   "mimetype": "text/x-python",
   "name": "python",
   "nbconvert_exporter": "python",
   "pygments_lexer": "ipython3",
   "version": "3.6.5"
  }
 },
 "nbformat": 4,
 "nbformat_minor": 2
}
